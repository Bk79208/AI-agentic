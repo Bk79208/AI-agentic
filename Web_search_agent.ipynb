{
 "cells": [
  {
   "cell_type": "code",
   "execution_count": 11,
   "id": "d549c4bd",
   "metadata": {},
   "outputs": [],
   "source": [
    "import os\n",
    "from dotenv import load_dotenv"
   ]
  },
  {
   "cell_type": "code",
   "execution_count": 12,
   "id": "43dcc3ed",
   "metadata": {},
   "outputs": [],
   "source": [
    "load_dotenv()\n",
    "GROQ_API_KEY = os.getenv(\"GROQ_API_KEY\")\n",
    "\n",
    "SERPAPI_API_KEY = os.getenv(\"SERPAPI_API_KEY\")"
   ]
  },
  {
   "cell_type": "code",
   "execution_count": 3,
   "id": "727f8414",
   "metadata": {},
   "outputs": [],
   "source": [
    "#pip install langchain_groq langchain_community google-search-results"
   ]
  },
  {
   "cell_type": "code",
   "execution_count": 13,
   "id": "a7e05d18",
   "metadata": {},
   "outputs": [],
   "source": [
    "from langchain_groq import ChatGroq\n",
    "from langchain_community.utilities import SerpAPIWrapper\n",
    "from langchain. tools import Tool\n",
    "from langchain.memory import ConversationBufferMemory\n",
    "from langchain.agents import initialize_agent\n",
    "\n",
    "groq_llm = ChatGroq(\n",
    "    api_key=GROQ_API_KEY,\n",
    "    model_name = \"llama3-70b-8192\",\n",
    "    temperature=1.0,\n",
    "    max_tokens=500\n",
    ")\n",
    "\n",
    "search = SerpAPIWrapper(serpapi_api_key=SERPAPI_API_KEY)\n",
    "\n",
    "search_tool = Tool(\n",
    "    name=\"Web Search\",\n",
    "    func=search.run,\n",
    "    description=\"Searches the web for latest information\",\n",
    "    handel_parsing_error = True\n",
    ")\n",
    "\n",
    "# memory = ConversationBufferMemory(memory_key = \"history\")"
   ]
  },
  {
   "cell_type": "code",
   "execution_count": 14,
   "id": "dd19c478",
   "metadata": {},
   "outputs": [],
   "source": [
    "agent = initialize_agent(\n",
    "    tools=[search_tool],\n",
    "    llm=groq_llm,\n",
    "    # memory=memory,\n",
    ")"
   ]
  },
  {
   "cell_type": "code",
   "execution_count": 15,
   "id": "7735c151",
   "metadata": {},
   "outputs": [
    {
     "name": "stdout",
     "output_type": "stream",
     "text": [
      "{'input': 'who is the current elected present of USA as of 2025', 'output': 'Donald Trump is the current elected president of the USA as of 2025.'}\n"
     ]
    }
   ],
   "source": [
    "response = agent.invoke(\"who is the current elected present of USA as of 2025\")\n",
    "print(response)"
   ]
  },
  {
   "cell_type": "code",
   "execution_count": null,
   "id": "de841611",
   "metadata": {},
   "outputs": [],
   "source": []
  }
 ],
 "metadata": {
  "kernelspec": {
   "display_name": "venv",
   "language": "python",
   "name": "python3"
  },
  "language_info": {
   "codemirror_mode": {
    "name": "ipython",
    "version": 3
   },
   "file_extension": ".py",
   "mimetype": "text/x-python",
   "name": "python",
   "nbconvert_exporter": "python",
   "pygments_lexer": "ipython3",
   "version": "3.12.5"
  }
 },
 "nbformat": 4,
 "nbformat_minor": 5
}
